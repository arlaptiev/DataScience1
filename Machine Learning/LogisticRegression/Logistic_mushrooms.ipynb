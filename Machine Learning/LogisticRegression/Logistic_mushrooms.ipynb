{
 "cells": [
  {
   "cell_type": "code",
   "execution_count": 5,
   "metadata": {
    "collapsed": true
   },
   "outputs": [],
   "source": [
    "import pandas as pd\n",
    "import numpy as np"
   ]
  },
  {
   "cell_type": "code",
   "execution_count": 6,
   "metadata": {
    "collapsed": true
   },
   "outputs": [],
   "source": [
    "#setting data\n",
    "df = pd.read_csv('../mushrooms.csv', sep=',',header=None, skiprows=1)\n",
    "data = np.array(df)\n",
    "\n",
    "#possible values of els in column\n",
    "charVals = ['ep','bcxfks','fgys','nbcgrpuewy','tf','alcyfmnps',\\\n",
    "            'adfn','cwd','bn','knbhgropuewy','et','bcuezr?','fyks','fyks','nbcgopewy',\\\n",
    "            'nbcgopewy','pu','nowy','not','ceflnpsz','knbhrouwy','acnsvy','glmpuwd']\n",
    "\n",
    "#change char to number in data\n",
    "for nrow in np.arange(len(data)):\n",
    "        for nel in np.arange(len(data[nrow])):\n",
    "            data[nrow][nel] = charVals[nel].index(data[nrow][nel])\n",
    "        \n",
    "X = data[:, 1:]\n",
    "X = X.astype('int')\n",
    "y = data[:, 0]\n",
    "y = y.astype('int')"
   ]
  },
  {
   "cell_type": "code",
   "execution_count": 7,
   "metadata": {},
   "outputs": [
    {
     "name": "stdout",
     "output_type": "stream",
     "text": [
      "0.957287050714\n"
     ]
    }
   ],
   "source": [
    "#predict\n",
    "from sklearn import preprocessing\n",
    "from sklearn.linear_model import LogisticRegression\n",
    "from sklearn.metrics import accuracy_score\n",
    "logistic = LogisticRegression()\n",
    "fit = logistic.fit(X,y)\n",
    "y_pred = logistic.predict(X)\n",
    "\n",
    "acc = accuracy_score(y, y_pred)\n",
    "print(acc)"
   ]
  },
  {
   "cell_type": "code",
   "execution_count": null,
   "metadata": {
    "collapsed": true
   },
   "outputs": [],
   "source": []
  }
 ],
 "metadata": {
  "kernelspec": {
   "display_name": "Python 3",
   "language": "python",
   "name": "python3"
  },
  "language_info": {
   "codemirror_mode": {
    "name": "ipython",
    "version": 3
   },
   "file_extension": ".py",
   "mimetype": "text/x-python",
   "name": "python",
   "nbconvert_exporter": "python",
   "pygments_lexer": "ipython3",
   "version": "3.6.3"
  }
 },
 "nbformat": 4,
 "nbformat_minor": 2
}
