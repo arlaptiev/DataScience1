{
 "cells": [
  {
   "cell_type": "markdown",
   "metadata": {},
   "source": [
    "# Logistic Regression\n",
    "\n",
    "This program can be used to find if the student is likely to get accepted by a college admissions commitee or not based on two taken exams. \n",
    "\n",
    "Useful: https://aimotion.blogspot.com/2011/11/machine-learning-with-python-logistic.html"
   ]
  },
  {
   "cell_type": "code",
   "execution_count": 25,
   "metadata": {
    "collapsed": true
   },
   "outputs": [],
   "source": [
    "import psycopg2\n",
    "import numpy as np\n",
    "from pylab import scatter, show, legend, xlabel, ylabel\n",
    "import scipy.optimize as opt\n",
    "conn = psycopg2.connect(\"dbname='postgres' user='***' host='localhost' password='***'\")\n",
    "cursor = conn.cursor()"
   ]
  },
  {
   "cell_type": "code",
   "execution_count": 27,
   "metadata": {
    "collapsed": true
   },
   "outputs": [],
   "source": [
    "cursor.execute(\"\"\"SELECT exam1, exam2 from collegea\"\"\")\n",
    "X = np.array(cursor.fetchall())\n",
    "cursor.execute(\"\"\"SELECT result from collegea\"\"\")\n",
    "y = np.array(cursor.fetchall())\n",
    "X = X.astype(np.float32)\n",
    "y = y.astype(np.float32)\n",
    "temp = np.zeros(len(y))\n",
    "for i in np.arange(len(y)):\n",
    "    temp[i] = y[i][0]\n",
    "y = temp"
   ]
  },
  {
   "cell_type": "code",
   "execution_count": 73,
   "metadata": {},
   "outputs": [
    {
     "data": {
      "image/png": "[encoded data removed]",
      "text/plain": [
       "<matplotlib.figure.Figure at 0x10cafd269b0>"
      ]
     },
     "metadata": {},
     "output_type": "display_data"
    }
   ],
   "source": [
    "pos = np.where(y == 1)\n",
    "neg = np.where(y == 0)\n",
    "scatter(X[pos, 0], X[pos, 1], marker='o', c='b')\n",
    "scatter(X[neg, 0], X[neg, 1], marker='x', c='y')\n",
    "xlabel('Exam 1')\n",
    "ylabel('Exam 2')\n",
    "legend(['Declined', 'Admitted'])\n",
    "show()"
   ]
  },
  {
   "cell_type": "code",
   "execution_count": 46,
   "metadata": {
    "collapsed": true
   },
   "outputs": [],
   "source": [
    "def sigmoid(X):\n",
    "    return 1 / (1 + np.exp(- X))\n",
    "\n",
    "def cost(theta, X, y):\n",
    "    p_1 = sigmoid(np.dot(X, theta)) # predicted probability of label 1\n",
    "    log_l = (-y)*np.log(p_1) - (1-y)*np.log(1-p_1) # log-likelihood vector\n",
    "\n",
    "    return log_l.mean()\n",
    "\n",
    "def grad(theta, X, y):\n",
    "    p_1 = sigmoid(np.dot(X, theta))\n",
    "    error = p_1 - y # difference between label and prediction\n",
    "    grad = np.dot(error, X_1) / y.size # gradient vector\n",
    "\n",
    "    return grad\n",
    "\n",
    "def predict(theta, X):\n",
    "    p_1 = sigmoid(np.dot(X, theta))\n",
    "    return p_1 > 0.5"
   ]
  },
  {
   "cell_type": "code",
   "execution_count": 52,
   "metadata": {},
   "outputs": [
    {
     "name": "stdout",
     "output_type": "stream",
     "text": [
      "Optimization terminated successfully.\n",
      "         Current function value: 0.203498\n",
      "         Iterations: 27\n",
      "         Function evaluations: 31\n",
      "         Gradient evaluations: 31\n"
     ]
    }
   ],
   "source": [
    "# prefix an extra column of ones to the feature matrix (for intercept term)\n",
    "theta = 0.1* np.random.randn(3)\n",
    "X_1 = np.append( np.ones((X.shape[0], 1)), X, axis=1)\n",
    "\n",
    "theta_1 = opt.fmin_bfgs(cost, theta, fprime=grad, args=(X_1, y))"
   ]
  },
  {
   "cell_type": "code",
   "execution_count": 60,
   "metadata": {
    "scrolled": true
   },
   "outputs": [
    {
     "name": "stdout",
     "output_type": "stream",
     "text": [
      "Train Accuracy: 89.000000\n"
     ]
    }
   ],
   "source": [
    "p = predict(np.array(theta_1), X_1)\n",
    "print ('Train Accuracy: %f' % ((y[np.where(p == y)].size / float(y.size)) * 100.0))"
   ]
  },
  {
   "cell_type": "markdown",
   "metadata": {},
   "source": [
    "### Alternatively"
   ]
  },
  {
   "cell_type": "code",
   "execution_count": 64,
   "metadata": {},
   "outputs": [
    {
     "data": {
      "text/plain": [
       "array([ 1.])"
      ]
     },
     "execution_count": 64,
     "metadata": {},
     "output_type": "execute_result"
    }
   ],
   "source": [
    "from sklearn import preprocessing\n",
    "from sklearn.linear_model import LogisticRegression\n",
    "logistic = LogisticRegression()\n",
    "fit = logistic.fit(X,y)\n",
    "logistic.predict([[75,39]])"
   ]
  }
 ],
 "metadata": {
  "kernelspec": {
   "display_name": "Python 3",
   "language": "python",
   "name": "python3"
  },
  "language_info": {
   "codemirror_mode": {
    "name": "ipython",
    "version": 3
   },
   "file_extension": ".py",
   "mimetype": "text/x-python",
   "name": "python",
   "nbconvert_exporter": "python",
   "pygments_lexer": "ipython3",
   "version": "3.6.3"
  }
 },
 "nbformat": 4,
 "nbformat_minor": 2
}
