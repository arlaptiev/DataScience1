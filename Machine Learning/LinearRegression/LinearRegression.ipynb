{
 "cells": [
  {
   "cell_type": "markdown",
   "metadata": {},
   "source": [
    "# Linear Regression\n",
    "\n",
    "This program can be used to find the most likely amount of loan a customer requests based on his annual income, home ownership status, the amount of time and returning rate a loan is requested for."
   ]
  },
  {
   "cell_type": "code",
   "execution_count": 176,
   "metadata": {
    "collapsed": true
   },
   "outputs": [],
   "source": [
    "import psycopg2\n",
    "from sklearn import preprocessing\n",
    "import numpy as np\n",
    "import matplotlib.pyplot as plt\n",
    "conn = psycopg2.connect(\"dbname='postgres' user='****' host='localhost' password='****'\")\n",
    "cursor = conn.cursor()"
   ]
  },
  {
   "cell_type": "code",
   "execution_count": 164,
   "metadata": {},
   "outputs": [],
   "source": [
    "cursor.execute(\"\"\"SELECT term, int_rate, home_ownership, annual_inc from loans\"\"\")\n",
    "A = cursor.fetchall()\n",
    "cursor.execute(\"\"\"SELECT loan_amnt from loans\"\"\")\n",
    "V = cursor.fetchall()\n",
    "X_train = np.array(A)\n",
    "X_train = X_train.astype(np.float32)\n",
    "y = np.array(V)\n",
    "y = y.astype(np.float32)\n",
    "y_train = np.zeros(len(y))\n",
    "for i in np.arange(len(y)):\n",
    "    y_train[i] = y[i][0]\n",
    "y_train = y_train.astype(np.float32)"
   ]
  },
  {
   "cell_type": "code",
   "execution_count": 184,
   "metadata": {},
   "outputs": [],
   "source": [
    "m = y_train.size\n",
    "\n",
    "scale = preprocessing.StandardScaler().fit(X_train)\n",
    "X_train = scale.transform(X_train)\n",
    "temp = np.array(np.zeros(m))\n",
    "amin = np.amin(y_train)\n",
    "amax = np.amax(y_train)\n",
    "for i, e in enumerate(y_train):\n",
    "    temp[i] = (e - amin)/(amax - amin)\n",
    "y_train = temp"
   ]
  },
  {
   "cell_type": "code",
   "execution_count": 185,
   "metadata": {},
   "outputs": [],
   "source": [
    "def computeCost(theta, loss):\n",
    "    return sum( loss ** 2 ) / (m * 2)"
   ]
  },
  {
   "cell_type": "code",
   "execution_count": 191,
   "metadata": {},
   "outputs": [],
   "source": [
    "def gradientDescent(theta, iters, alpha):\n",
    "    J_history = np.zeros(iters)\n",
    "    for i in np.arange(iters):\n",
    "        h = np.dot(X_train, theta)\n",
    "        loss = h - y_train\n",
    "        gradient = np.dot(np.transpose(X_train), loss) / m\n",
    "        theta = theta - alpha * gradient\n",
    "        \n",
    "        J_history[i] = computeCost(theta, loss)\n",
    "    return J_history, theta"
   ]
  },
  {
   "cell_type": "code",
   "execution_count": 192,
   "metadata": {},
   "outputs": [],
   "source": [
    "history, theta = gradientDescent([1,1,1,1], 5000, 0.0005)"
   ]
  },
  {
   "cell_type": "code",
   "execution_count": 193,
   "metadata": {},
   "outputs": [
    {
     "data": {
      "image/png": "[encoded data removed]",
      "text/plain": [
       "<matplotlib.figure.Figure at 0x1ef511af470>"
      ]
     },
     "metadata": {},
     "output_type": "display_data"
    }
   ],
   "source": [
    "plt.plot(history)\n",
    "plt.show()"
   ]
  },
  {
   "cell_type": "code",
   "execution_count": 194,
   "metadata": {},
   "outputs": [
    {
     "data": {
      "text/plain": [
       "array([ 0.0590184 ,  0.07512087,  0.07273244,  0.08933602])"
      ]
     },
     "execution_count": 194,
     "metadata": {},
     "output_type": "execute_result"
    }
   ],
   "source": [
    "theta"
   ]
  }
 ],
 "metadata": {
  "kernelspec": {
   "display_name": "Python 3",
   "language": "python",
   "name": "python3"
  },
  "language_info": {
   "codemirror_mode": {
    "name": "ipython",
    "version": 3
   },
   "file_extension": ".py",
   "mimetype": "text/x-python",
   "name": "python",
   "nbconvert_exporter": "python",
   "pygments_lexer": "ipython3",
   "version": "3.6.3"
  }
 },
 "nbformat": 4,
 "nbformat_minor": 2
}
