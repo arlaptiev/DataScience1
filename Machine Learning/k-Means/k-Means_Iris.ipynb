{
 "cells": [
  {
   "cell_type": "code",
   "execution_count": 316,
   "metadata": {
    "collapsed": true
   },
   "outputs": [],
   "source": [
    "%matplotlib inline\n",
    "import matplotlib.pyplot as plt\n",
    "import seaborn as sns; sns.set()  # plot styling\n",
    "import pandas as pd\n",
    "import numpy as np\n",
    "import itertools as it"
   ]
  },
  {
   "cell_type": "code",
   "execution_count": 317,
   "metadata": {
    "collapsed": true
   },
   "outputs": [],
   "source": [
    "#loading data\n",
    "df = pd.read_csv('Iris.csv', sep=',',header=None, skiprows=1)\n",
    "data = np.array(df)\n",
    "\n",
    "#enumerating string values\n",
    "def enum(lst):\n",
    "    temp = []\n",
    "    for i in np.arange(len(lst)):\n",
    "        if lst[i] not in temp:\n",
    "            temp.append(lst[i])\n",
    "        lst[i] = temp.index(lst[i])\n",
    "    return lst\n",
    "\n",
    "df[5] = enum(np.array(df[5]))\n",
    "\n",
    "#number of clusters\n",
    "clusts = np.amax(np.array(df[5])) + 1\n",
    "\n",
    "#setting data\n",
    "data = np.array(df)\n",
    "X = data[:, :4]\n",
    "X = X.astype('float')\n",
    "y = data[:, 5]\n",
    "y = y.astype('int')"
   ]
  },
  {
   "cell_type": "code",
   "execution_count": 318,
   "metadata": {
    "collapsed": true
   },
   "outputs": [],
   "source": [
    "#predict using sklearn\n",
    "from sklearn.cluster import KMeans\n",
    "kmeans = KMeans(n_clusters=clusts)\n",
    "kmeans.fit(X)\n",
    "y_kmeans = kmeans.predict(X)"
   ]
  },
  {
   "cell_type": "code",
   "execution_count": 319,
   "metadata": {},
   "outputs": [
    {
     "name": "stdout",
     "output_type": "stream",
     "text": [
      "0.9866666666666667\n"
     ]
    }
   ],
   "source": [
    "def predict(y, y_kmeans):\n",
    "    return y[np.where(y_kmeans == y)].size / float(y.size)\n",
    "\n",
    "#choosing rigth nums of clusters\n",
    "temp = np.array(y_kmeans)\n",
    "pred = []\n",
    "permArray = []\n",
    "\n",
    "for perm in it.permutations(np.arange(clusts), clusts):\n",
    "    permArray.append(perm)\n",
    "\n",
    "def fit(perm):\n",
    "    for val in perm:\n",
    "        for i in np.where(np.array(y_kmeans) == perm.index(val))[0]:\n",
    "            temp[i] = val\n",
    "    return temp\n",
    "\n",
    "for perm in permArray:\n",
    "    pred.append(predict(y, fit(perm)))   \n",
    "    \n",
    "i = pred.index(np.amax(pred))\n",
    "y_kmeans = fit(permArray[i])\n",
    "\n",
    "#accuracy\n",
    "resultdf = pd.DataFrame(data={'True':y,'Prediction':y_kmeans})\n",
    "print(predict(y, y_kmeans))"
   ]
  },
  {
   "cell_type": "code",
   "execution_count": null,
   "metadata": {},
   "outputs": [],
   "source": []
  }
 ],
 "metadata": {
  "kernelspec": {
   "display_name": "Python 3",
   "language": "python",
   "name": "python3"
  },
  "language_info": {
   "codemirror_mode": {
    "name": "ipython",
    "version": 3
   },
   "file_extension": ".py",
   "mimetype": "text/x-python",
   "name": "python",
   "nbconvert_exporter": "python",
   "pygments_lexer": "ipython3",
   "version": "3.6.3"
  }
 },
 "nbformat": 4,
 "nbformat_minor": 2
}
