{
 "cells": [
  {
   "cell_type": "code",
   "execution_count": 151,
   "metadata": {
    "collapsed": true
   },
   "outputs": [],
   "source": [
    "import unicodecsv\n",
    "import random\n",
    "import operator\n",
    "import numpy as np\n",
    "import pandas as pd"
   ]
  },
  {
   "cell_type": "code",
   "execution_count": 152,
   "metadata": {},
   "outputs": [],
   "source": [
    "#enumerates last atrribute of a dataset\n",
    "def enum(lst):\n",
    "    l = len(lst[0])\n",
    "    stAttr = []\n",
    "    for i in range(len(lst)):\n",
    "        stAttr.append(lst[i][l-1])\n",
    "            \n",
    "    temp = []\n",
    "    gbAttr = []\n",
    "    for i in range(len(stAttr)):\n",
    "        if stAttr[i] not in temp:\n",
    "            temp.append(stAttr[i])\n",
    "        if temp.index(stAttr[i]) == 0:\n",
    "            val = 'g'\n",
    "        else:\n",
    "            val = 'b'\n",
    "        gbAttr.append(val)\n",
    "    \n",
    "    for i in range(len(lst)):\n",
    "        lst[i][l-1] = gbAttr[i]\n",
    "    return lst\n",
    "\n",
    "def getdata(filename):\n",
    "    with open(filename,'rb') as f:\n",
    "        next(f)\n",
    "        reader = unicodecsv.reader(f)\n",
    "        return enum(list(reader))\n",
    "    \n",
    "def shuffle(i_data):\n",
    "    random.shuffle(i_data)\n",
    "    train_data = i_data[:int(0.7*len(i_data))]\n",
    "    test_data = i_data[int(0.7*len(i_data)):]\n",
    "    return train_data, test_data\n",
    " \n",
    "def euclideanDist(x, xi):\n",
    "    d = 0.0\n",
    "    for i in range(len(x)-1):\n",
    "        d += pow((float(x[i])-float(xi[i])),2)\n",
    "    d = math.sqrt(d)\n",
    "    return d"
   ]
  },
  {
   "cell_type": "code",
   "execution_count": 153,
   "metadata": {
    "collapsed": true
   },
   "outputs": [],
   "source": [
    "def knn_predict(test_data, train_data, k_value):\n",
    "    for i in test_data:\n",
    "        eu_Distance =[]\n",
    "        knn = []\n",
    "        good = 0\n",
    "        bad = 0\n",
    "        \n",
    "        for j in train_data:\n",
    "            eu_dist = euclideanDist(i, j)\n",
    "            eu_Distance.append((j[5], eu_dist))\n",
    "            eu_Distance.sort(key = operator.itemgetter(1))\n",
    "            knn = eu_Distance[:k_value]\n",
    "            for k in knn:\n",
    "                if k[0] =='g':\n",
    "                    good += 1\n",
    "                else:\n",
    "                    bad +=1\n",
    "        if good > bad:\n",
    "            i.append('g')\n",
    "        elif good < bad:\n",
    "            i.append('b')\n",
    "        else:\n",
    "            i.append('NaN')\n",
    "            \n",
    "def accuracy(test_data):\n",
    "    correct = 0\n",
    "    for i in test_data:\n",
    "        if i[5] == i[6]:\n",
    "            correct += 1\n",
    "    accuracy = float(correct)/len(test_data)  #accuracy \n",
    "    return accuracy"
   ]
  },
  {
   "cell_type": "code",
   "execution_count": 154,
   "metadata": {},
   "outputs": [],
   "source": [
    "dataset = getdata('../Iris2.csv')  #getdata function call with csv file as parameter\n",
    "train_dataset, test_dataset = shuffle(dataset) #train test data split\n",
    "K = 3                                    # Assumed K value"
   ]
  },
  {
   "cell_type": "code",
   "execution_count": 155,
   "metadata": {},
   "outputs": [
    {
     "name": "stdout",
     "output_type": "stream",
     "text": [
      "[['67', '5.6', '3.0', '4.5', '1.5', 'b', 'b'], ['39', '4.4', '3.0', '1.3', '0.2', 'g', 'g'], ['97', '5.7', '2.9', '4.2', '1.3', 'b', 'b'], ['14', '4.3', '3.0', '1.1', '0.1', 'g', 'g'], ['56', '5.7', '2.8', '4.5', '1.3', 'b', 'b'], ['78', '6.7', '3.0', '5.0', '1.7', 'b', 'b'], ['66', '6.7', '3.1', '4.4', '1.4', 'b', 'b'], ['61', '5.0', '2.0', '3.5', '1.0', 'b', 'b'], ['85', '5.4', '3.0', '4.5', '1.5', 'b', 'b'], ['60', '5.2', '2.7', '3.9', '1.4', 'b', 'b'], ['93', '5.8', '2.6', '4.0', '1.2', 'b', 'b'], ['59', '6.6', '2.9', '4.6', '1.3', 'b', 'b'], ['71', '5.9', '3.2', '4.8', '1.8', 'b', 'b'], ['36', '5.0', '3.2', '1.2', '0.2', 'g', 'g'], ['88', '6.3', '2.3', '4.4', '1.3', 'b', 'b'], ['86', '6.0', '3.4', '4.5', '1.6', 'b', 'b'], ['16', '5.7', '4.4', '1.5', '0.4', 'g', 'g'], ['28', '5.2', '3.5', '1.5', '0.2', 'g', 'g'], ['13', '4.8', '3.0', '1.4', '0.1', 'g', 'g'], ['37', '5.5', '3.5', '1.3', '0.2', 'g', 'g'], ['45', '5.1', '3.8', '1.9', '0.4', 'g', 'g'], ['10', '4.9', '3.1', '1.5', '0.1', 'g', 'g'], ['25', '4.8', '3.4', '1.9', '0.2', 'g', 'g'], ['26', '5.0', '3.0', '1.6', '0.2', 'g', 'g'], ['50', '5.0', '3.3', '1.4', '0.2', 'g', 'g'], ['81', '5.5', '2.4', '3.8', '1.1', 'b', 'b'], ['74', '6.1', '2.8', '4.7', '1.2', 'b', 'b'], ['77', '6.8', '2.8', '4.8', '1.4', 'b', 'b'], ['64', '6.1', '2.9', '4.7', '1.4', 'b', 'b'], ['35', '4.9', '3.1', '1.5', '0.1', 'g', 'g']]\n",
      "--------------------------------------------------------------------------------\n",
      "                                        Accuracy: 100.000%\n"
     ]
    }
   ],
   "source": [
    "knn_predict(test_dataset, train_dataset, K)   \n",
    "print(test_dataset)\n",
    "print(\"-\" * 80)\n",
    "print(\" \" * 40 + \"Accuracy: {:.3%}\".format(accuracy(test_dataset)))"
   ]
  },
  {
   "cell_type": "code",
   "execution_count": null,
   "metadata": {
    "collapsed": true
   },
   "outputs": [],
   "source": []
  }
 ],
 "metadata": {
  "kernelspec": {
   "display_name": "Python 3",
   "language": "python",
   "name": "python3"
  },
  "language_info": {
   "codemirror_mode": {
    "name": "ipython",
    "version": 3
   },
   "file_extension": ".py",
   "mimetype": "text/x-python",
   "name": "python",
   "nbconvert_exporter": "python",
   "pygments_lexer": "ipython3",
   "version": "3.6.3"
  }
 },
 "nbformat": 4,
 "nbformat_minor": 2
}
